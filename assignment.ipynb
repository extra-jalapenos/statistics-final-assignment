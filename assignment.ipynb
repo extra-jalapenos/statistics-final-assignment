{
 "cells": [
  {
   "cell_type": "markdown",
   "id": "fced9a7c-bf3f-478c-9860-5d24a88b172b",
   "metadata": {},
   "source": [
    "# Final Assignment"
   ]
  },
  {
   "cell_type": "code",
   "execution_count": null,
   "id": "734a815f-7e3e-4032-9721-eb5409fbc523",
   "metadata": {},
   "outputs": [],
   "source": [
    "import numpy as np\n",
    "import pandas as pd\n",
    "\n",
    "import matplotlib.pyplot as plt\n",
    "import seaborn as sns\n",
    "sns.set_theme()\n",
    "sns.set(rc={'figure.figsize':(15, 9)})\n",
    "sns.set(font_scale=1.5) "
   ]
  },
  {
   "cell_type": "markdown",
   "id": "7b2d5563-e2df-4934-b313-c15a3fc6e6d2",
   "metadata": {},
   "source": [
    "### Part 1\n",
    "\n",
    "The `food_consumption.csv` dataset from the `data` folder contains data on the several countries' food consumption per food category and their respective CO2 emissions. Load it to a DataFrame named `food` and check its contents."
   ]
  },
  {
   "cell_type": "code",
   "execution_count": null,
   "id": "dfd5da95-6fdd-4f31-acb8-9c6e1a424df7",
   "metadata": {},
   "outputs": [],
   "source": []
  },
  {
   "cell_type": "markdown",
   "id": "472b304f-f6f4-4a5b-a662-71e0250b2cce",
   "metadata": {},
   "source": [
    "1. Use the `.describe()` method on the `food` DataFrame to produce descriptive statistics about the `consumption` metric for each class in the `food_category` variable. **Which `food_category` has the highest median value of `food_consumption`?** "
   ]
  },
  {
   "cell_type": "code",
   "execution_count": null,
   "id": "2e8dad5d-eff2-4aea-8ee6-8013d526cc48",
   "metadata": {},
   "outputs": [],
   "source": []
  },
  {
   "cell_type": "markdown",
   "id": "78301ce2-ff86-4065-b681-3f08468dca5a",
   "metadata": {},
   "source": [
    "2. In a single chart, plot one boxplot for each `food_category` (11 in total) using the variable `co2_emission` as the metric. **By looking at the chart, which `food_category` has the highest interquartile range (IQR)?**"
   ]
  },
  {
   "cell_type": "code",
   "execution_count": null,
   "id": "0f42d7f9-ccdc-4206-b4e4-b7e6748a65a7",
   "metadata": {},
   "outputs": [],
   "source": []
  },
  {
   "cell_type": "markdown",
   "id": "50a7f9f2-6fe9-4707-a734-7dc1d9b010f9",
   "metadata": {},
   "source": [
    "3. Looking at the chart from the previous question, which is the `food_category` with the highest median `co2_emission` value? "
   ]
  },
  {
   "cell_type": "code",
   "execution_count": null,
   "id": "b0a27598-6e5d-437e-a879-15a86197bd4c",
   "metadata": {},
   "outputs": [],
   "source": []
  },
  {
   "cell_type": "markdown",
   "id": "bccd7696-498d-4220-89ff-2154275d2469",
   "metadata": {},
   "source": [
    "4. Consider the `consumption` of \"poultry\" and \"fish\" across all available `countries`; looking at the table from question 1, the average of poultry consumption (21.22) seems to be higher than that of fish consumption (17.29), but is this difference statistically significant? Create a permutation test in order to assess the null hypothesis that there is no difference between the two means. **Do you accept or reject the null hypothesis?** Explain why. "
   ]
  },
  {
   "cell_type": "code",
   "execution_count": null,
   "id": "159f3cd2-90f7-4eb9-a85b-263341415ba1",
   "metadata": {},
   "outputs": [],
   "source": []
  },
  {
   "cell_type": "markdown",
   "metadata": {},
   "source": [
    "### Part 2\n",
    "\n",
    "The `distributions.csv` dataset from the `data` folder contains data drawn from 6 probability distributions – one per column. Load it to a DataFrame named `distributions` and check its contents."
   ]
  },
  {
   "cell_type": "code",
   "execution_count": null,
   "metadata": {},
   "outputs": [],
   "source": []
  },
  {
   "cell_type": "markdown",
   "metadata": {},
   "source": [
    "1. Use the `.describe()` and `info()` methods on the `distributions` DataFrame to produce some preliminary information about each column. **What is the data type of each column?**"
   ]
  },
  {
   "cell_type": "code",
   "execution_count": null,
   "metadata": {},
   "outputs": [],
   "source": []
  },
  {
   "cell_type": "markdown",
   "metadata": {},
   "source": [
    "2. Loop through each column of `distributions` and for each column produce a plot to show the distribution."
   ]
  },
  {
   "cell_type": "code",
   "execution_count": null,
   "metadata": {},
   "outputs": [],
   "source": []
  },
  {
   "cell_type": "markdown",
   "metadata": {},
   "source": [
    "3. Each column of the `distributions` dataframe contains data drawn from a different distribution. **Associate each column to its probability distribution.** This is the list of the probability distributions used (one for each column):\n",
    "    - Bernoulli\n",
    "    - Binomial\n",
    "    - Continuous Uniform\n",
    "    - Gaussian\n",
    "    - Discrete Uniform\n",
    "    - Poisson\n",
    "    - Exponential (this was not explain in classroom, go by exclusion)"
   ]
  },
  {
   "cell_type": "code",
   "execution_count": null,
   "metadata": {},
   "outputs": [],
   "source": []
  }
 ],
 "metadata": {
  "kernelspec": {
   "display_name": "Python 3 (ipykernel)",
   "language": "python",
   "name": "python3"
  },
  "language_info": {
   "codemirror_mode": {
    "name": "ipython",
    "version": 3
   },
   "file_extension": ".py",
   "mimetype": "text/x-python",
   "name": "python",
   "nbconvert_exporter": "python",
   "pygments_lexer": "ipython3",
   "version": "3.9.7"
  }
 },
 "nbformat": 4,
 "nbformat_minor": 5
}
